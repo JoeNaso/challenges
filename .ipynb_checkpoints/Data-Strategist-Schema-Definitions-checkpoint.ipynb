{
 "cells": [
  {
   "cell_type": "code",
   "execution_count": 1,
   "metadata": {},
   "outputs": [],
   "source": [
    "import datetime\n",
    "import os \n",
    "import random\n",
    "\n",
    "from random import randint\n",
    "\n",
    "import numpy as np\n",
    "import pandas as pd\n",
    "\n",
    "from faker import Faker"
   ]
  },
  {
   "cell_type": "code",
   "execution_count": 2,
   "metadata": {},
   "outputs": [],
   "source": [
    "fake = Faker()\n",
    "titles = ['sales_rep','sales_leader']\n",
    "team_types = ['smb_sales', 'enterprise_sales']\n",
    "locales = ['NAMER','EMEA','APAC']"
   ]
  },
  {
   "cell_type": "code",
   "execution_count": 3,
   "metadata": {},
   "outputs": [],
   "source": [
    "class Base():\n",
    "    \"\"\"\n",
    "    Base class with shared utilities\n",
    "    \"\"\"\n",
    "    def __init__(self, *args, **kwargs):\n",
    "        pass\n",
    "    \n",
    "    def random_iso_date(self,\n",
    "                        start=datetime.date(year=2019, month=1, day=1),\n",
    "                        end=datetime.date.today()):\n",
    "        max_td = end - start\n",
    "        rand_interval = randint(0, max_td.total_seconds())\n",
    "        date = start + datetime.timedelta(seconds=rand_interval)\n",
    "        return date.isoformat()\n",
    "    \n",
    "    def as_dict(self):\n",
    "        return vars(self)"
   ]
  },
  {
   "cell_type": "code",
   "execution_count": 4,
   "metadata": {},
   "outputs": [],
   "source": [
    "class Role(Base):\n",
    "    \"\"\"\n",
    "    Schema for the a User's Role\n",
    "    We'll only ever have as many distinct roles as we have titles\n",
    "    \"\"\"\n",
    "    def __init__(self):\n",
    "        self.id = titles.index(random.choice(titles)) + 1 # make sure we don't use 0 for id\n",
    "        self.monthly_quota = self.get_monthly_quota()\n",
    "        self.title = random.choice(titles)\n",
    "        \n",
    "    def get_monthly_quota(self):\n",
    "        return random.random() * 50000"
   ]
  },
  {
   "cell_type": "code",
   "execution_count": 5,
   "metadata": {},
   "outputs": [],
   "source": [
    "class Team(Base):\n",
    "    \"\"\"\n",
    "    Schema for a Team. Users are members of a team\n",
    "    We'll only ever have as many distinct teams as we have types\n",
    "    Currently, the only types of teams are:\n",
    "        - smb_sales\n",
    "        - enterprise_sales\n",
    "    \"\"\"\n",
    "    def __init__(self):\n",
    "        self.id = team_types.index(random.choice(team_types))\n",
    "        self.type = random.choice(team_types)\n",
    "        self.division = random.choice(locales)"
   ]
  },
  {
   "cell_type": "code",
   "execution_count": 6,
   "metadata": {},
   "outputs": [],
   "source": [
    "class User(Base):\n",
    "    \"\"\"\n",
    "    Schema for a User (employee)\n",
    "    Users have Roles, and belong to a Team\n",
    "    \"\"\"\n",
    "    def __init__(self, id):\n",
    "        self.id = id\n",
    "        self.full_name = fake.name()\n",
    "        self.role = Role().as_dict()\n",
    "        self.role_id = self.role.get('id')\n",
    "        self.team = Team().as_dict()\n",
    "        self.team_id = self.team.get('id')\n",
    "        self.is_active = random.choice([True, False])\n",
    "        self.did_hit_quota = self.decide_on_quota()\n",
    "        self.date_joined = self.random_iso_date()\n",
    "        self.date_inactive = self.did_deactivate()\n",
    "        \n",
    "    def decide_on_quota(self):\n",
    "        \"\"\"\n",
    "        Generate random did_hit_quota value\n",
    "        \"\"\"\n",
    "        cutoff = random.random() * 50000\n",
    "        if self.is_active and not self.role.get('monthly_quota') < cutoff:\n",
    "            return True\n",
    "        return False\n",
    "\n",
    "    def did_deactivate(self):\n",
    "        \"\"\"\n",
    "        Let's make sure the date_inactive value comes after date_joined\n",
    "        \"\"\"\n",
    "        if not self.is_active:\n",
    "            start = datetime.datetime.strptime(self.date_joined, '%Y-%m-%d').date()\n",
    "            return self.random_iso_date(start=start)\n",
    "        return None"
   ]
  },
  {
   "cell_type": "code",
   "execution_count": 7,
   "metadata": {},
   "outputs": [],
   "source": [
    "def yield_user(count):\n",
    "    for i in range(count):\n",
    "        yield User(i).as_dict()\n",
    "\n",
    "def seed_user_table(count):\n",
    "    return pd.DataFrame([User(i).as_dict() for i in range(1, count)])"
   ]
  },
  {
   "cell_type": "code",
   "execution_count": 8,
   "metadata": {},
   "outputs": [],
   "source": [
    "USERS = seed_user_table(25)\n",
    "USERS.to_csv('db/users.csv', index=False, encoding='utf-8')"
   ]
  },
  {
   "cell_type": "code",
   "execution_count": 9,
   "metadata": {},
   "outputs": [],
   "source": [
    "def get_seeded_user():\n",
    "    return random.choice(USERS['id'].values)"
   ]
  },
  {
   "cell_type": "code",
   "execution_count": 10,
   "metadata": {},
   "outputs": [],
   "source": [
    "class Account(Base):\n",
    "    \"\"\"\n",
    "    Schema for an Account\n",
    "    Accounts are parents to Opportunties and represent a company\n",
    "    \"\"\"\n",
    "    def __init__(self, id):\n",
    "        self.id = id\n",
    "        self.name = fake.company()\n",
    "        self.billing_address_short = fake.street_address()\n",
    "        self.billing_city = fake.city()\n",
    "        self.billing_country = fake.country()"
   ]
  },
  {
   "cell_type": "code",
   "execution_count": 11,
   "metadata": {},
   "outputs": [],
   "source": [
    "def seed_account_table(count):\n",
    "        return pd.DataFrame([Account(i).as_dict() for i in range(1, count)])"
   ]
  },
  {
   "cell_type": "code",
   "execution_count": 12,
   "metadata": {},
   "outputs": [],
   "source": [
    "ACCOUNTS = seed_account_table(10)\n",
    "ACCOUNTS.to_csv('db/accounts.csv', index=False, encoding='utf-8')"
   ]
  },
  {
   "cell_type": "code",
   "execution_count": 13,
   "metadata": {},
   "outputs": [],
   "source": [
    "def get_seeded_account():\n",
    "    return random.choice(ACCOUNTS['id'].values)"
   ]
  },
  {
   "cell_type": "code",
   "execution_count": 14,
   "metadata": {},
   "outputs": [],
   "source": [
    "class Lead(Base):\n",
    "    \n",
    "    def __init__(self, id):\n",
    "        self.id = id\n",
    "        self.name = fake.name()\n",
    "        self.account_id = get_seeded_account()\n",
    "        self.owner_id = get_seeded_user()"
   ]
  },
  {
   "cell_type": "code",
   "execution_count": 15,
   "metadata": {},
   "outputs": [],
   "source": [
    "def seed_lead_table(count):\n",
    "    return pd.DataFrame([Lead(i).as_dict() for i in range(1, count)])"
   ]
  },
  {
   "cell_type": "code",
   "execution_count": 16,
   "metadata": {},
   "outputs": [],
   "source": [
    "LEADS = seed_lead_table(1000)\n",
    "LEADS.to_csv('db/leads.csv', index=False, encoding='utf-8')"
   ]
  },
  {
   "cell_type": "code",
   "execution_count": 17,
   "metadata": {},
   "outputs": [],
   "source": [
    "def get_seeded_lead():\n",
    "    return random.choice(LEADS['id'].values)"
   ]
  },
  {
   "cell_type": "code",
   "execution_count": 18,
   "metadata": {},
   "outputs": [],
   "source": [
    "class Opportunity(Base):\n",
    "    \"\"\"\n",
    "    Schema for an Opportunity, which represents a deal of a specific value and duration\n",
    "    Deals can be won or lost and move through a variety of stages\n",
    "    Opportunities relate to:\n",
    "        - Account\n",
    "        - Lead \n",
    "        - User (owner)\n",
    "    \"\"\"\n",
    "    def __init__(self, id):\n",
    "        self.id = id\n",
    "        self.name = fake.bs()\n",
    "        self.account_id = get_seeded_account()\n",
    "        self.lead_id = get_seeded_lead()\n",
    "        self.owner_id = get_seeded_user()\n",
    "        self.stage = self.get_random_stage()\n",
    "        self.deal_value = self.get_random_deal_value()\n",
    "        self.deal_length = self.get_random_deal_length()\n",
    "        self.mrr = round(self.deal_value / self.deal_length, 2)\n",
    "        self.is_closed = self.get_is_closed()\n",
    "        self.is_won = True if self.is_closed and self.stage == 'closed_won' else None\n",
    "        self.is_lost = True if self.is_closed and self.stage == 'closed_lost' else None\n",
    "        self.date_closed = self.random_iso_date() if self.is_closed else None\n",
    "        \n",
    "    def get_random_stage(self):\n",
    "        \"\"\"\n",
    "        Naively overseed closed opps to make the analysis more interesting\n",
    "        \"\"\"\n",
    "        vals = ['discovery', 'qualified', 'solution_design', 'closed_won', 'closed_lost', 'closed_won', 'closed_lost']\n",
    "        return random.choice(vals)\n",
    "    \n",
    "    def get_is_closed(self):\n",
    "        return True if self.stage in ('closed_won', 'closed_lost') else False\n",
    "    \n",
    "    def get_random_deal_value(self):\n",
    "        return round(random.random() * 25000, 2)\n",
    "    \n",
    "    def get_random_deal_length(self):\n",
    "        return random.choice(range(1,12))\n",
    " "
   ]
  },
  {
   "cell_type": "code",
   "execution_count": 19,
   "metadata": {},
   "outputs": [],
   "source": [
    "def seed_opp_table(count):\n",
    "    return pd.DataFrame([Opportunity(i).as_dict() for i in range(1, count)])"
   ]
  },
  {
   "cell_type": "code",
   "execution_count": 20,
   "metadata": {},
   "outputs": [],
   "source": [
    "def get_seeded_opp():\n",
    "    return random.choice(OPPS['id'].values)"
   ]
  },
  {
   "cell_type": "code",
   "execution_count": 21,
   "metadata": {},
   "outputs": [],
   "source": [
    "OPPS = seed_opp_table(1000)\n",
    "OPPS.to_csv('db/opps.csv', index=False, encoding='utf-8')"
   ]
  },
  {
   "cell_type": "code",
   "execution_count": 22,
   "metadata": {},
   "outputs": [],
   "source": [
    "class Product(Base):\n",
    "    \n",
    "    def __init__(self, i, product_type):\n",
    "        self.id = i\n",
    "        self.type = product_type"
   ]
  },
  {
   "cell_type": "code",
   "execution_count": 23,
   "metadata": {},
   "outputs": [],
   "source": [
    "PRODUCTS = pd.DataFrame([Product(t[0], t[1]).as_dict() for t in \n",
    "                         ((1, 'database'), (2, 'prof_consulting'), (3, 'self_monitor'))])\n",
    "PRODUCTS.to_csv('db/product.csv', index=False, encoding='utf-8')"
   ]
  },
  {
   "cell_type": "code",
   "execution_count": 24,
   "metadata": {},
   "outputs": [],
   "source": [
    "class Order(Base):\n",
    "    def __init__(self, id):\n",
    "        self.id = id\n",
    "        self.opportunity_id = get_seeded_opp()\n",
    "        self.products = self.seed_products()\n",
    "        self.created_at = self.random_iso_date()\n",
    "        \n",
    "    def seed_products(self):\n",
    "        seed = range(random.randint(1, PRODUCTS.id.max()))\n",
    "        return PRODUCTS[PRODUCTS['id'].isin(seed)].id.values.tolist()\n",
    "        "
   ]
  },
  {
   "cell_type": "code",
   "execution_count": 25,
   "metadata": {},
   "outputs": [],
   "source": [
    "cnt_closed = OPPS[OPPS['is_closed'] == True]\n",
    "ORDERS = pd.DataFrame([Order(i).as_dict() for i in range(cnt_closed.id.max())])\n",
    "ORDERS.to_csv('db/orders.csv', index=False, encoding='utf-8')"
   ]
  }
 ],
 "metadata": {
  "kernelspec": {
   "display_name": "Python 3",
   "language": "python",
   "name": "python3"
  },
  "language_info": {
   "codemirror_mode": {
    "name": "ipython",
    "version": 3
   },
   "file_extension": ".py",
   "mimetype": "text/x-python",
   "name": "python",
   "nbconvert_exporter": "python",
   "pygments_lexer": "ipython3",
   "version": "3.7.2"
  }
 },
 "nbformat": 4,
 "nbformat_minor": 2
}
